{
 "cells": [
  {
   "cell_type": "code",
   "execution_count": 8,
   "id": "phantom-teach",
   "metadata": {},
   "outputs": [],
   "source": [
    "import pandas as pd\n",
    "import numpy as np\n",
    "import os\n",
    "import pathlib\n",
    "import datetime\n",
    "import sys\n",
    "sys.path.append('/home/beeb/Insync/sei2112@columbia.edu/Google Drive/Columbia SusDev PhD/Research/My work/parler/code/lib')\n",
    "import constants as c\n",
    "import matplotlib.pyplot as plt\n",
    "os.chdir(c.wd)"
   ]
  },
  {
   "cell_type": "markdown",
   "id": "twelve-variable",
   "metadata": {},
   "source": [
    "## In this file\n",
    "For the RDD strategy, we're interested in finding individuals who joined Parler within some window of a cutoff date (specifically, one of the dates when there was a large influx of users into the platform). This code finds, for one of these cutoff dates, the specific group of indivduals which joined shortly before/after that date."
   ]
  },
  {
   "cell_type": "code",
   "execution_count": 2,
   "id": "complicated-treat",
   "metadata": {},
   "outputs": [],
   "source": [
    "# filters out only the individuals who fall within the cutoff period\n",
    "def takeSample(dat, cutoff, lowerCutoff, upperCutoff):\n",
    "    dat['post'] = dat.joined > cutoff\n",
    "    dat['inSample'] = (dat.joined > lowerCutoff) & (dat.joined < upperCutoff)\n",
    "    datIS = dat[dat.inSample]\n",
    "    return datIS"
   ]
  },
  {
   "cell_type": "code",
   "execution_count": 3,
   "id": "chief-reputation",
   "metadata": {},
   "outputs": [],
   "source": [
    "# changes dates and window into appropriate formats\n",
    "def getCutoffs(breakYear, breakMonth, breakDay, nDaysBefore, nDaysAfter):\n",
    "    cutoff = datetime.datetime(year = breakYear, month = breakMonth, day = breakDay)\n",
    "    lowerCutoff = cutoff - datetime.timedelta(days = nDaysBefore)\n",
    "    upperCutoff = cutoff + datetime.timedelta(days = nDaysAfter)\n",
    "    return cutoff, lowerCutoff, upperCutoff"
   ]
  },
  {
   "cell_type": "code",
   "execution_count": 4,
   "id": "radio-appeal",
   "metadata": {},
   "outputs": [],
   "source": [
    "# runs code over all files\n",
    "def runCode(breakYear, breakMonth, breakDay, nDaysBefore, nDaysAfter):\n",
    "    cutoff, lowerCutoff, upperCutoff = getCutoffs(breakYear, breakMonth, breakDay, nDaysBefore, nDaysAfter)\n",
    "    final = pd.DataFrame()\n",
    "    for i in range(9):\n",
    "        print('Performing iteration {i} at {j}'.format(i = i, \n",
    "                                            j = str(datetime.datetime.now())))\n",
    "        dat = pd.read_csv(c.userOutpath.format(i),\n",
    "                  parse_dates = ['joined', 'lastseents'])\n",
    "        datIter = takeSample(dat, cutoff, lowerCutoff, upperCutoff)\n",
    "        final = pd.concat([final, datIter])\n",
    "    final.to_csv(c.samplePath.format(str(cutoff).split(' ')[0]), \n",
    "                 index = False)\n",
    "    return final"
   ]
  },
  {
   "cell_type": "code",
   "execution_count": 5,
   "id": "owned-registrar",
   "metadata": {},
   "outputs": [],
   "source": [
    "dates = pd.DataFrame({'years': [2018, 2019, 2020, 2020],\n",
    "               'months': [12, 6, 6, 11],\n",
    "               'days': [9, 1, 16, 4],\n",
    "               'desc': ['Candace Owens tweets', 'Saudis', \n",
    "                        'Dan Bongino announces purchase of ownership stake on Parler',\n",
    "                       'Election']})"
   ]
  },
  {
   "cell_type": "code",
   "execution_count": 6,
   "id": "viral-drinking",
   "metadata": {},
   "outputs": [
    {
     "name": "stderr",
     "output_type": "stream",
     "text": [
      "<ipython-input-3-b52c89a6db82>:3: DeprecationWarning: an integer is required (got type Series).  Implicit conversion to integers using __int__ is deprecated, and may be removed in a future version of Python.\n",
      "  cutoff = datetime.datetime(year = breakYear, month = breakMonth, day = breakDay)\n"
     ]
    },
    {
     "name": "stdout",
     "output_type": "stream",
     "text": [
      "Performing iteration 0 at 2021-04-01 04:23:04.314602\n",
      "Performing iteration 1 at 2021-04-01 04:27:25.167244\n",
      "Performing iteration 2 at 2021-04-01 04:31:40.729733\n",
      "Performing iteration 3 at 2021-04-01 04:35:56.837979\n",
      "Performing iteration 4 at 2021-04-01 04:40:12.169557\n",
      "Performing iteration 5 at 2021-04-01 04:44:30.645339\n",
      "Performing iteration 6 at 2021-04-01 04:48:48.486321\n",
      "Performing iteration 7 at 2021-04-01 04:53:07.766507\n",
      "Performing iteration 8 at 2021-04-01 04:57:24.274860\n"
     ]
    }
   ],
   "source": [
    "j = 2\n",
    "df2 = runCode(dates.loc[j,['years']],\n",
    "       dates.loc[j,['months']],\n",
    "       dates.loc[j,['days']],\n",
    "       180, 60)"
   ]
  },
  {
   "cell_type": "code",
   "execution_count": 12,
   "id": "attractive-dance",
   "metadata": {},
   "outputs": [
    {
     "data": {
      "text/plain": [
       "'2021-04-01'"
      ]
     },
     "execution_count": 12,
     "metadata": {},
     "output_type": "execute_result"
    }
   ],
   "source": []
  },
  {
   "cell_type": "code",
   "execution_count": null,
   "id": "military-suicide",
   "metadata": {},
   "outputs": [],
   "source": []
  }
 ],
 "metadata": {
  "kernelspec": {
   "display_name": "Python 3",
   "language": "python",
   "name": "python3"
  },
  "language_info": {
   "codemirror_mode": {
    "name": "ipython",
    "version": 3
   },
   "file_extension": ".py",
   "mimetype": "text/x-python",
   "name": "python",
   "nbconvert_exporter": "python",
   "pygments_lexer": "ipython3",
   "version": "3.8.8"
  }
 },
 "nbformat": 4,
 "nbformat_minor": 5
}
