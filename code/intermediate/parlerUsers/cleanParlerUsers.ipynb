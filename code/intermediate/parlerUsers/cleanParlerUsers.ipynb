{
 "cells": [
  {
   "cell_type": "code",
   "execution_count": 2,
   "metadata": {},
   "outputs": [],
   "source": [
    "import pandas as pd\n",
    "import numpy as np\n",
    "import os\n",
    "import pathlib\n",
    "import datetime\n",
    "import sys\n",
    "sys.path.append('/home/beeb/Insync/sei2112@columbia.edu/Google Drive/Columbia SusDev PhD/Research/My work/parler/code/lib')\n",
    "import constants as c\n",
    "import matplotlib.pyplot as plt\n",
    "import ndjson\n",
    "from codetiming import Timer\n",
    "from datetime import datetime"
   ]
  },
  {
   "cell_type": "code",
   "execution_count": 3,
   "metadata": {},
   "outputs": [],
   "source": [
    "os.chdir(c.wd)"
   ]
  },
  {
   "cell_type": "code",
   "execution_count": 4,
   "metadata": {},
   "outputs": [],
   "source": [
    "\n",
    "# finds the number of users in a given ndjson file\n",
    "def findNUsers(file):\n",
    "    nUsers = sum(1 for line in open(c.userPath.format(str(file))))\n",
    "    return nUsers"
   ]
  },
  {
   "cell_type": "code",
   "execution_count": 5,
   "metadata": {},
   "outputs": [],
   "source": [
    "# create an empty df to be filled with data\n",
    "def createUsersDf(nUsers, keepCols):\n",
    "    \n",
    "    users = pd.DataFrame(index = range(0, nUsers))\n",
    "    for col in keepCols:\n",
    "        users[col] = [''] * nUsers\n",
    "    return users"
   ]
  },
  {
   "cell_type": "code",
   "execution_count": 6,
   "metadata": {},
   "outputs": [],
   "source": [
    "\n",
    "def fillInUser(file, users, keepCols):\n",
    "    with open(c.userPath.format(str(file))) as f:\n",
    "        reader = ndjson.reader(f)\n",
    "        j = 0\n",
    "        for line in reader:\n",
    "            l = pd.Series([line[i]  if i in line.keys() else None for i in keepCols])\n",
    "\n",
    "            users.iloc[j,:] = l.T.values\n",
    "            j += 1\n",
    "    return users"
   ]
  },
  {
   "cell_type": "code",
   "execution_count": 7,
   "metadata": {},
   "outputs": [],
   "source": [
    "def cleanValues(users, cols, dtype):\n",
    "    for col in cols:\n",
    "        users[col] = users[col].astype(dtype)\n",
    "    return users"
   ]
  },
  {
   "cell_type": "code",
   "execution_count": null,
   "metadata": {},
   "outputs": [],
   "source": []
  },
  {
   "cell_type": "code",
   "execution_count": 8,
   "metadata": {},
   "outputs": [],
   "source": [
    "def singleFileClean(file):\n",
    "    print('    Finding n users at ' + str(datetime.now()))\n",
    "    nUsers = findNUsers(file)\n",
    "    keepCols = ['id', 'bio', 'user_followers', 'user_following', \n",
    "                'joined', 'lastseents', 'posts', 'username', 'state']\n",
    "    print('    creating empty df at ' + str(datetime.now()))\n",
    "    users = createUsersDf(nUsers, keepCols)\n",
    "    \n",
    "    print('    filling in df at ' + str(datetime.now()))\n",
    "    users = fillInUser(file, users, keepCols)\n",
    "    print('    cleaning numeric values at ' + str(datetime.now()))\n",
    "    users = cleanValues(users, ['user_followers', 'user_following', 'posts'], float)\n",
    "    print('    cleaning date values at ' + str(datetime.now()))\n",
    "    #users = cleanValues(users, ['joined', 'lastseents'], 'datetime64[ns]')\n",
    "    users = cleanValues(users, ['joined'], 'datetime64[ns]')\n",
    "    users.to_csv(c.outpath.format(str(file)))\n",
    "    print('    finishing up at ' + str(datetime.now()))"
   ]
  },
  {
   "cell_type": "code",
   "execution_count": 11,
   "metadata": {},
   "outputs": [],
   "source": [
    "def allFileClean():\n",
    "    for file in range(8):\n",
    "        print('Going through iteration {} at {}'.format(str(file), str(datetime.now())))\n",
    "        singleFileClean(file)"
   ]
  },
  {
   "cell_type": "code",
   "execution_count": null,
   "metadata": {},
   "outputs": [
    {
     "name": "stdout",
     "output_type": "stream",
     "text": [
      "Going through iteration 0 at 2021-03-17 13:48:08.519448\n",
      "    Finding n users at 2021-03-17 13:48:08.519732\n",
      "    creating empty df at 2021-03-17 13:48:22.357662\n",
      "    filling in df at 2021-03-17 13:48:23.021858\n"
     ]
    }
   ],
   "source": [
    "allFileClean()"
   ]
  },
  {
   "cell_type": "code",
   "execution_count": null,
   "metadata": {},
   "outputs": [],
   "source": []
  }
 ],
 "metadata": {
  "kernelspec": {
   "display_name": "Python 3",
   "language": "python",
   "name": "python3"
  },
  "language_info": {
   "codemirror_mode": {
    "name": "ipython",
    "version": 3
   },
   "file_extension": ".py",
   "mimetype": "text/x-python",
   "name": "python",
   "nbconvert_exporter": "python",
   "pygments_lexer": "ipython3",
   "version": "3.8.8"
  }
 },
 "nbformat": 4,
 "nbformat_minor": 4
}
