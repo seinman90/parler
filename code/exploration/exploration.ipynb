{
 "cells": [
  {
   "cell_type": "code",
   "execution_count": 130,
   "metadata": {},
   "outputs": [],
   "source": [
    "import pandas as pd\n",
    "import os\n",
    "from bs4 import BeautifulSoup\n",
    "import pathlib\n",
    "import re\n",
    "import datetime\n",
    "#import gensim\n",
    "#import spacy"
   ]
  },
  {
   "cell_type": "code",
   "execution_count": 2,
   "metadata": {},
   "outputs": [],
   "source": [
    "wd = '/home/beeb/Insync/sei2112@columbia.edu/Google Drive/Columbia SusDev PhD/Research/My work/parler'\n",
    "os.chdir(wd)"
   ]
  },
  {
   "cell_type": "code",
   "execution_count": 3,
   "metadata": {},
   "outputs": [],
   "source": [
    "filepath = 'data/raw/parler_2020-01-06_posts-partial/files_f/f000edcac32f48f3aafdeaa9aad1a113'\n",
    "with open(filepath, 'r') as f:\n",
    "    dat = f.read()\n",
    "soup = BeautifulSoup(dat)"
   ]
  },
  {
   "cell_type": "markdown",
   "metadata": {},
   "source": [
    "## STEPS TO TAKE\n",
    "- extract user name\n",
    "- extract text\n",
    "- extract timestamp"
   ]
  },
  {
   "cell_type": "code",
   "execution_count": 7,
   "metadata": {},
   "outputs": [],
   "source": [
    "soup = BeautifulSoup(dat)"
   ]
  },
  {
   "cell_type": "code",
   "execution_count": 16,
   "metadata": {},
   "outputs": [],
   "source": [
    "text = [i.get_text() for i in soup.find_all('div', {'class': 'card--body'})]"
   ]
  },
  {
   "cell_type": "code",
   "execution_count": 18,
   "metadata": {},
   "outputs": [],
   "source": [
    "author = soup.find_all('span', {'class': 'author--username'})"
   ]
  },
  {
   "cell_type": "code",
   "execution_count": 20,
   "metadata": {},
   "outputs": [],
   "source": [
    "def parse(section, bit):\n",
    "    return [i.get_text() for i in soup.find_all(section, {'class': bit})]"
   ]
  },
  {
   "cell_type": "code",
   "execution_count": 127,
   "metadata": {},
   "outputs": [],
   "source": [
    "text = parse('div', 'card--body')\n",
    "author = parse('span', 'author--username')\n",
    "timestamp = parse('span', 'post--timestamp')\n"
   ]
  },
  {
   "cell_type": "code",
   "execution_count": 115,
   "metadata": {},
   "outputs": [],
   "source": [
    "def extractInfo(link):\n",
    "    l = link.find('img')\n",
    "    if l is None:\n",
    "        return False\n",
    "    else:\n",
    "        return link.find('img')['alt'] == 'Post Comments'"
   ]
  },
  {
   "cell_type": "code",
   "execution_count": 104,
   "metadata": {},
   "outputs": [],
   "source": [
    "\n",
    "interaction = soup.find(extractInfo).find_all('span',{'class': 'pa--item--count'})\n",
    "comments = interaction[0].get_text()\n",
    "echoes = interaction[1].get_text()\n",
    "upvotes = interaction[2].get_text()"
   ]
  },
  {
   "cell_type": "code",
   "execution_count": 144,
   "metadata": {},
   "outputs": [],
   "source": [
    "def getData(filepath, outpath = 'data/intermediate/parlerText/inParts/{}'):\n",
    "    fname = pathlib.Path(filepath)\n",
    "    createTime = datetime.datetime.fromtimestamp(fname.stat().st_ctime)\n",
    "    with open(filepath, 'r') as f:\n",
    "        dat = f.read()\n",
    "    soup = BeautifulSoup(dat)\n",
    "    text = parse('div', 'card--body')\n",
    "    author = parse('span', 'author--username')\n",
    "    timestamp = parse('span', 'post--timestamp')\n",
    "    interaction = soup.find(extractInfo).find_all('span',{'class': 'pa--item--count'})\n",
    "    comments = interaction[0].get_text()\n",
    "    echoes = interaction[1].get_text()\n",
    "    upvotes = interaction[2].get_text()\n",
    "    # unclear why there are multiple bits of text/author per page here, but let's just\n",
    "    # select the first because that seems to be the important one?\n",
    "    fileID = filepath.split('/')[-1]\n",
    "    res = pd.DataFrame(index =  [fileID], data = {'text': text[0], 'author': author[0], \n",
    "                        'timestamp': timestamp[0], 'createTime': createTime,\n",
    "                       'comments': comments, 'echoes': echoes, 'upvotes': upvotes})\n",
    "    res.to_csv(outpath.format(fileID))\n",
    "    "
   ]
  },
  {
   "cell_type": "code",
   "execution_count": null,
   "metadata": {},
   "outputs": [],
   "source": []
  }
 ],
 "metadata": {
  "kernelspec": {
   "display_name": "Python 3",
   "language": "python",
   "name": "python3"
  },
  "language_info": {
   "codemirror_mode": {
    "name": "ipython",
    "version": 3
   },
   "file_extension": ".py",
   "mimetype": "text/x-python",
   "name": "python",
   "nbconvert_exporter": "python",
   "pygments_lexer": "ipython3",
   "version": "3.8.3"
  }
 },
 "nbformat": 4,
 "nbformat_minor": 4
}
